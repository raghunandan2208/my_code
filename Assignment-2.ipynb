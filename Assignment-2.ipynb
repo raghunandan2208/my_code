{
 "cells": [
  {
   "cell_type": "code",
   "execution_count": 1,
   "metadata": {},
   "outputs": [
    {
     "name": "stdout",
     "output_type": "stream",
     "text": [
      "19-02-2021 is Valid date\n"
     ]
    }
   ],
   "source": [
    "import re\n",
    "s = \"19-02-2021\"\n",
    "r = re.compile(\"^(0[1-9]|[12][0-9]|3[01])([-])(0[1-9]|1[012])([-])(\\d\\d\\d\\d)$\")\n",
    "s = re.search(r,s)\n",
    "date = int(s.group(1))\n",
    "month = int(s.group(3))\n",
    "year = int(s.group(5))\n",
    "\n",
    "if (date == 29 and month == 2 and not ((year % 4 == 0) and (year % 100 != 0 or year % 400 == 0))):\n",
    "    print(\"{} is Invalid date\".format(s.group(0)))\n",
    "elif (date == 31 and (month == 4 or month == 6 or month == 9 or month == 11)):\n",
    "    print(\"{} is Invalid date\".format(s.group(0)))\n",
    "elif(date >= 30 and month == 2):\n",
    "    print(\"{} is Invalid date\".format(s.group(0)))\n",
    "else:\n",
    "    print(\"{} is Valid date\".format(s.group(0)))"
   ]
  },
  {
   "cell_type": "code",
   "execution_count": 2,
   "metadata": {},
   "outputs": [
    {
     "name": "stdout",
     "output_type": "stream",
     "text": [
      "Invalid Email\n"
     ]
    }
   ],
   "source": [
    "import re\n",
    "s= \"ab_cd.1.23@xyz.com\"\n",
    "r = re.compile(\"^[a-zA-Z_.]*[0-9_]*[^\\.\\_]@[a-z]+(\\.[a-z]{2,3}){1,2}$\")\n",
    "m = re.search(r,s)\n",
    "if m:\n",
    "    print(m.group())\n",
    "    print(\"{} is Valid Email\".format(m.group()))\n",
    "else:\n",
    "    print(\"Invalid Email\")"
   ]
  },
  {
   "cell_type": "code",
   "execution_count": 3,
   "metadata": {},
   "outputs": [],
   "source": [
    "import re\n",
    "f1 = open(\"sample1.txt\",\"r\")\n",
    "f2 = open(\"sample2.txt\",\"r\")\n",
    "f3 = open(\"sample3.txt\",\"a+\")\n",
    "lines1 = f1.readline()\n",
    "lines2 = f2.readline()\n",
    "\n",
    "l1 = (re.findall('\\d+', lines1 ))\n",
    "l2 = (re.findall('\\d+', lines2 ))\n",
    "\n",
    "if l1 < l2:\n",
    "    f1.seek(0)\n",
    "    f3.write(f1.read())\n",
    "    f2.seek(0)\n",
    "    f3.write(f2.read())\n",
    "else:\n",
    "    f2.seek(0)\n",
    "    f3.write(f2.read())\n",
    "    f1.seek(0)\n",
    "    f3.write(f1.read())\n",
    "\n",
    "f1.close()\n",
    "f2.close()\n",
    "f3.close()"
   ]
  },
  {
   "cell_type": "code",
   "execution_count": null,
   "metadata": {},
   "outputs": [],
   "source": []
  }
 ],
 "metadata": {
  "kernelspec": {
   "display_name": "Python 3",
   "language": "python",
   "name": "python3"
  },
  "language_info": {
   "codemirror_mode": {
    "name": "ipython",
    "version": 3
   },
   "file_extension": ".py",
   "mimetype": "text/x-python",
   "name": "python",
   "nbconvert_exporter": "python",
   "pygments_lexer": "ipython3",
   "version": "3.7.4"
  }
 },
 "nbformat": 4,
 "nbformat_minor": 2
}
