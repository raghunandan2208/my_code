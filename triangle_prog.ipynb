{
 "cells": [
  {
   "cell_type": "code",
   "execution_count": 4,
   "metadata": {},
   "outputs": [
    {
     "name": "stdout",
     "output_type": "stream",
     "text": [
      "Enter first side of triangle: 49\n",
      "Enter second side of triangle: 48\n",
      "Enter third side of triangle: 47\n",
      "The given dimensions form Scalene Triangle\n"
     ]
    }
   ],
   "source": [
    "#5.Write a program to check whether triangle is equilateral, scalene or isosceles A triangle is said Equilateral Triangle, \n",
    "#if all its sides are equal. If a, b, c are three sides of triangle. Then, the triangle is equilateral only if a == b == c.\n",
    "\n",
    "#A triangle is said Isosceles Triangle, if its two sides are equal. If a, b, c are three sides of triangle. Then, the     \n",
    "#triangle is isosceles if either a == b or a == c or b == c.\n",
    "\n",
    "#A triangle is said Scalene Triangle, if none of its sides are equal. \n",
    "\n",
    "a = float(input(\"Enter first side of triangle: \"))\n",
    "b = float(input(\"Enter second side of triangle: \"))\n",
    "c = float(input(\"Enter third side of triangle: \"))\n",
    "\n",
    "if a == b == c:\n",
    "    print(\"The given dimensions form an Equilateral Triangle\")\n",
    "elif a == b or a == c or b == c:\n",
    "    print(\"The given dimensions form an Isosceles Triangle\")\n",
    "else:\n",
    "    print(\"The given dimensions form Scalene Triangle\")\n",
    "    \n",
    "\n",
    "\n"
   ]
  },
  {
   "cell_type": "code",
   "execution_count": null,
   "metadata": {},
   "outputs": [],
   "source": []
  }
 ],
 "metadata": {
  "kernelspec": {
   "display_name": "Python 3",
   "language": "python",
   "name": "python3"
  },
  "language_info": {
   "codemirror_mode": {
    "name": "ipython",
    "version": 3
   },
   "file_extension": ".py",
   "mimetype": "text/x-python",
   "name": "python",
   "nbconvert_exporter": "python",
   "pygments_lexer": "ipython3",
   "version": "3.7.4"
  }
 },
 "nbformat": 4,
 "nbformat_minor": 2
}
