{
 "cells": [
  {
   "cell_type": "code",
   "execution_count": 1,
   "metadata": {},
   "outputs": [
    {
     "name": "stdout",
     "output_type": "stream",
     "text": [
      "15\n"
     ]
    }
   ],
   "source": [
    "#Write a Python program to sum all the items in a list\n",
    "\n",
    "def sum_list(items):\n",
    "    sum1 = 0\n",
    "    for i in items:\n",
    "        sum1 += i\n",
    "    return sum1\n",
    "\n",
    "print(sum_list([1,2,3,4,5]))    "
   ]
  },
  {
   "cell_type": "code",
   "execution_count": 3,
   "metadata": {},
   "outputs": [
    {
     "name": "stdout",
     "output_type": "stream",
     "text": [
      "24\n"
     ]
    }
   ],
   "source": [
    "#2. Write a Python program to multiplies all the items in a list.\n",
    "\n",
    "def prod_list(items):\n",
    "    prod = 1\n",
    "    for i in items:\n",
    "        prod *= i\n",
    "    return prod\n",
    "print(prod_list([1,2,3,4]))"
   ]
  },
  {
   "cell_type": "code",
   "execution_count": 5,
   "metadata": {},
   "outputs": [
    {
     "name": "stdout",
     "output_type": "stream",
     "text": [
      "56\n"
     ]
    }
   ],
   "source": [
    "#3. Write a Python program to get the largest number from a list.\n",
    "\n",
    "def large_num(items):\n",
    "    max = items[0]\n",
    "    for i in items:\n",
    "        if i > max:\n",
    "            max = i\n",
    "    return max\n",
    "print(large_num([1,2,3,4,56,45]))"
   ]
  },
  {
   "cell_type": "code",
   "execution_count": 6,
   "metadata": {},
   "outputs": [
    {
     "name": "stdout",
     "output_type": "stream",
     "text": [
      "-26\n"
     ]
    }
   ],
   "source": [
    "#4. Write a Python program to get the smallest number from a list.\n",
    "\n",
    "def small_num(items):\n",
    "    min = items[0]\n",
    "    for i in items:\n",
    "        if i < min:\n",
    "            min = i\n",
    "    return min\n",
    "print(small_num([-3,4,56,-26]))"
   ]
  },
  {
   "cell_type": "code",
   "execution_count": 5,
   "metadata": {},
   "outputs": [
    {
     "name": "stdout",
     "output_type": "stream",
     "text": [
      "2\n"
     ]
    }
   ],
   "source": [
    "#5. Write a Python program to count the number of strings where the string length is 2 or more and the \n",
    "# first and last character are same from a given list of strings.\n",
    "# Sample List : ['abc', 'xyz', 'aba', '1221']\n",
    "# Expected Result : 2\n",
    "\n",
    "def str_count(words):\n",
    "    count = 0\n",
    "    for word in words:\n",
    "        if len(word) > 1 and word[0] == word[-1]:\n",
    "            count += 1\n",
    "    return count\n",
    "print(str_count(['abc', 'xyz', 'aba', '1221']))"
   ]
  },
  {
   "cell_type": "code",
   "execution_count": 38,
   "metadata": {},
   "outputs": [
    {
     "name": "stdout",
     "output_type": "stream",
     "text": [
      "[(2, 1), (1, 2), (2, 3), (4, 4), (2, 5)]\n"
     ]
    }
   ],
   "source": [
    "#6. Write a Python program to get a list, sorted in increasing order by the last element in each tuple from a \n",
    "# given list of non-empty tuples. Go to the editor\n",
    "# Sample List : [(2, 5), (1, 2), (4, 4), (2, 3), (2, 1)]\n",
    "# Expected Result : [(2, 1), (1, 2), (2, 3), (4, 4), (2, 5)]\n",
    "\n",
    "def last(items):\n",
    "    return items[-1]\n",
    "       \n",
    "def inc_order(items):\n",
    "    return sorted(items, key=last )\n",
    "    \n",
    "print(inc_order([(2, 5), (1, 2), (4, 4), (2, 3), (2, 1)]))"
   ]
  },
  {
   "cell_type": "code",
   "execution_count": 39,
   "metadata": {},
   "outputs": [
    {
     "name": "stdout",
     "output_type": "stream",
     "text": [
      "[1, 2, 3, 4, 5]\n"
     ]
    }
   ],
   "source": [
    "# 7. Write a Python program to remove duplicates from a list.\n",
    "\n",
    "def unique(items):\n",
    "    output = []\n",
    "    for item in items:\n",
    "        if item not in output:\n",
    "            output.append(item)\n",
    "    return output\n",
    "print(unique([1,2,3,4,2,3,5]))"
   ]
  },
  {
   "cell_type": "code",
   "execution_count": 41,
   "metadata": {},
   "outputs": [
    {
     "name": "stdout",
     "output_type": "stream",
     "text": [
      "Empty list\n"
     ]
    }
   ],
   "source": [
    "# 8. Write a Python program to check a list is empty or not. \n",
    "\n",
    "l = []\n",
    "\n",
    "if not l:\n",
    "    print(\"Empty list\")\n",
    "else:\n",
    "    print(\"Non Empty list\")\n",
    "    "
   ]
  },
  {
   "cell_type": "code",
   "execution_count": 1,
   "metadata": {},
   "outputs": [
    {
     "name": "stdout",
     "output_type": "stream",
     "text": [
      "['m', 'a', 'r', 'y']\n",
      "['a', 'r', 'm', 'y']\n",
      "these are anagrams\n"
     ]
    }
   ],
   "source": [
    "#9. Anagrams\n",
    "\n",
    "word1 = \"mary\"\n",
    "word2 = \"army\"\n",
    "\n",
    "split1 = []\n",
    "for x in word1:\n",
    "    split1.append(x)\n",
    "\n",
    "split2 = []\n",
    "for x in word2:\n",
    "    split2.append(x)\n",
    "\n",
    "print(split1)\n",
    "print(split2)\n",
    "\n",
    "\n",
    "if sorted(split1) == sorted(split2):\n",
    "    print(\"these are anagrams\")\n",
    "else:\n",
    "    print(\"these are not anagrams\")\n",
    "\n",
    "\n",
    "\n"
   ]
  },
  {
   "cell_type": "code",
   "execution_count": 2,
   "metadata": {},
   "outputs": [
    {
     "name": "stdout",
     "output_type": "stream",
     "text": [
      "[(2, 5), (3, 4), (4, 3), (5, 2)]\n"
     ]
    }
   ],
   "source": [
    "#10. sum of any two elements is 7\n",
    "\n",
    "nums = [1,2,3,4,5]\n",
    "result = 7\n",
    "sum_seven = []\n",
    "\n",
    "for value in nums:\n",
    "    sub = result - value\n",
    "    if sub in nums:\n",
    "        sum_seven.append((value,sub))\n",
    "print(sum_seven)"
   ]
  },
  {
   "cell_type": "code",
   "execution_count": 6,
   "metadata": {},
   "outputs": [
    {
     "data": {
      "text/plain": [
       "['safe', 'while', 'driving']"
      ]
     },
     "execution_count": 6,
     "metadata": {},
     "output_type": "execute_result"
    }
   ],
   "source": [
    "#10. Write a Python program to find the list of words that are longer than n from a given list of words.\n",
    "\n",
    "def long_word(n, str):\n",
    "    word_len = []\n",
    "    words = str.split(\" \")\n",
    "    for word in words:\n",
    "        if len(word) > n:\n",
    "            word_len.append(word)\n",
    "    return word_len\n",
    "\n",
    "long_word(3, \"To be safe while driving\")\n"
   ]
  },
  {
   "cell_type": "code",
   "execution_count": 10,
   "metadata": {},
   "outputs": [
    {
     "data": {
      "text/plain": [
       "False"
      ]
     },
     "execution_count": 10,
     "metadata": {},
     "output_type": "execute_result"
    }
   ],
   "source": [
    "#11. Write a Python function that takes two lists and returns True if they have at least one common member\n",
    "\n",
    "def common(lst1, lst2):\n",
    "    result = False\n",
    "    for x in lst1:\n",
    "        for y in lst2:\n",
    "            if x == y:\n",
    "                result = True\n",
    "    return result\n",
    "\n",
    "common([1,2,3,4,5],[6,9,7,8])"
   ]
  },
  {
   "cell_type": "code",
   "execution_count": 16,
   "metadata": {},
   "outputs": [
    {
     "data": {
      "text/plain": [
       "['hello', 'good']"
      ]
     },
     "execution_count": 16,
     "metadata": {},
     "output_type": "execute_result"
    }
   ],
   "source": [
    "#12. Write a Python program to print a specified list after removing the 0th, 4th and 5th elements.\n",
    "\n",
    "def revised_lst(original):\n",
    "    output = []\n",
    "    for (i,c) in enumerate(original):\n",
    "        if i not in (0,3,4):\n",
    "            output.append(c)\n",
    "    return output\n",
    "\n",
    "revised_lst(['hi','hello','good','evening','guys'])"
   ]
  },
  {
   "cell_type": "code",
   "execution_count": 17,
   "metadata": {},
   "outputs": [
    {
     "name": "stdout",
     "output_type": "stream",
     "text": [
      "[(1, 2, 3), (1, 3, 2), (2, 1, 3), (2, 3, 1), (3, 1, 2), (3, 2, 1)]\n"
     ]
    }
   ],
   "source": [
    "import itertools\n",
    "print(list(itertools.permutations([1,2,3])))\n",
    "\n"
   ]
  },
  {
   "cell_type": "code",
   "execution_count": 20,
   "metadata": {},
   "outputs": [
    {
     "name": "stdout",
     "output_type": "stream",
     "text": [
      "[2, 4, 3, 1, 5, 6, 9, 7, 9, 0]\n"
     ]
    }
   ],
   "source": [
    "original_list = [[2,4,3],[1,5,6], [9], [7,9,0]]\n",
    "new_list = list(itertools.chain(*original_list))\n",
    "print(new_list)"
   ]
  },
  {
   "cell_type": "code",
   "execution_count": 26,
   "metadata": {},
   "outputs": [
    {
     "name": "stdout",
     "output_type": "stream",
     "text": [
      "-2\n",
      "0\n",
      "0\n",
      "None\n",
      "None\n"
     ]
    }
   ],
   "source": [
    "#Write a Python program to find the second smallest number in a list.\n",
    "\n",
    "def second_smallest(lst):\n",
    "    if len(lst) < 2:\n",
    "        return\n",
    "    if len(lst) == 2 and lst[0] == lst[1]:\n",
    "        return\n",
    "    \n",
    "    dup_items = set()\n",
    "    unique = []\n",
    "    \n",
    "    for x in lst:\n",
    "        if x not in dup_items:\n",
    "            unique.append(x)\n",
    "            dup_items.add(x)\n",
    "    unique.sort()\n",
    "    return unique[1]\n",
    "\n",
    "print(second_smallest([1, 2, -8, -2, 0, -2]))\n",
    "print(second_smallest([1, 1, 0, 0, 2, -2, -2]))\n",
    "print(second_smallest([1, 1, 1, 0, 0, 0, 2, -2, -2]))\n",
    "print(second_smallest([2,2]))\n",
    "print(second_smallest([2]))\n",
    "        \n",
    "            "
   ]
  },
  {
   "cell_type": "code",
   "execution_count": 28,
   "metadata": {},
   "outputs": [
    {
     "name": "stdout",
     "output_type": "stream",
     "text": [
      "Frequency of the elements in the List :  Counter({10: 4, 20: 4, 40: 2, 50: 2, 30: 1})\n"
     ]
    }
   ],
   "source": [
    "import collections\n",
    "lst = [10,10,10,10,20,20,20,20,40,40,50,50,30]\n",
    "ctr = collections.Counter(lst)\n",
    "print(\"Frequency of the elements in the List : \",ctr)"
   ]
  },
  {
   "cell_type": "code",
   "execution_count": 3,
   "metadata": {},
   "outputs": [
    {
     "name": "stdout",
     "output_type": "stream",
     "text": [
      "6\n"
     ]
    }
   ],
   "source": [
    "#Write a Python program to count the number of elements in a list within a specified range.\n",
    "\n",
    "def count_range(li, min, max):\n",
    "    count = 0\n",
    "    for x in li:\n",
    "        if min <= x <= max:\n",
    "            count += 1\n",
    "    return count\n",
    "\n",
    "lst = [10,20,30,40,40,40,70,80,99]\n",
    "print(count_range(lst, 40, 100))"
   ]
  },
  {
   "cell_type": "code",
   "execution_count": null,
   "metadata": {},
   "outputs": [],
   "source": []
  }
 ],
 "metadata": {
  "kernelspec": {
   "display_name": "Python 3",
   "language": "python",
   "name": "python3"
  },
  "language_info": {
   "codemirror_mode": {
    "name": "ipython",
    "version": 3
   },
   "file_extension": ".py",
   "mimetype": "text/x-python",
   "name": "python",
   "nbconvert_exporter": "python",
   "pygments_lexer": "ipython3",
   "version": "3.7.4"
  }
 },
 "nbformat": 4,
 "nbformat_minor": 2
}
