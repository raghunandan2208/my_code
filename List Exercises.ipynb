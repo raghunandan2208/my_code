{
 "cells": [
  {
   "cell_type": "code",
   "execution_count": 1,
   "metadata": {},
   "outputs": [
    {
     "name": "stdout",
     "output_type": "stream",
     "text": [
      "15\n"
     ]
    }
   ],
   "source": [
    "#Write a Python program to sum all the items in a list\n",
    "\n",
    "def sum_list(items):\n",
    "    sum1 = 0\n",
    "    for i in items:\n",
    "        sum1 += i\n",
    "    return sum1\n",
    "\n",
    "print(sum_list([1,2,3,4,5]))    "
   ]
  },
  {
   "cell_type": "code",
   "execution_count": 3,
   "metadata": {},
   "outputs": [
    {
     "name": "stdout",
     "output_type": "stream",
     "text": [
      "24\n"
     ]
    }
   ],
   "source": [
    "#2. Write a Python program to multiplies all the items in a list.\n",
    "\n",
    "def prod_list(items):\n",
    "    prod = 1\n",
    "    for i in items:\n",
    "        prod *= i\n",
    "    return prod\n",
    "print(prod_list([1,2,3,4]))"
   ]
  },
  {
   "cell_type": "code",
   "execution_count": 5,
   "metadata": {},
   "outputs": [
    {
     "name": "stdout",
     "output_type": "stream",
     "text": [
      "56\n"
     ]
    }
   ],
   "source": [
    "#3. Write a Python program to get the largest number from a list.\n",
    "\n",
    "def large_num(items):\n",
    "    max = items[0]\n",
    "    for i in items:\n",
    "        if i > max:\n",
    "            max = i\n",
    "    return max\n",
    "print(large_num([1,2,3,4,56,45]))"
   ]
  },
  {
   "cell_type": "code",
   "execution_count": 6,
   "metadata": {},
   "outputs": [
    {
     "name": "stdout",
     "output_type": "stream",
     "text": [
      "-26\n"
     ]
    }
   ],
   "source": [
    "#4. Write a Python program to get the smallest number from a list.\n",
    "\n",
    "def small_num(items):\n",
    "    min = items[0]\n",
    "    for i in items:\n",
    "        if i < min:\n",
    "            min = i\n",
    "    return min\n",
    "print(small_num([-3,4,56,-26]))"
   ]
  },
  {
   "cell_type": "code",
   "execution_count": 5,
   "metadata": {},
   "outputs": [
    {
     "name": "stdout",
     "output_type": "stream",
     "text": [
      "2\n"
     ]
    }
   ],
   "source": [
    "#5. Write a Python program to count the number of strings where the string length is 2 or more and the \n",
    "# first and last character are same from a given list of strings.\n",
    "# Sample List : ['abc', 'xyz', 'aba', '1221']\n",
    "# Expected Result : 2\n",
    "\n",
    "def str_count(words):\n",
    "    count = 0\n",
    "    for word in words:\n",
    "        if len(word) > 1 and word[0] == word[-1]:\n",
    "            count += 1\n",
    "    return count\n",
    "print(str_count(['abc', 'xyz', 'aba', '1221']))"
   ]
  },
  {
   "cell_type": "code",
   "execution_count": 38,
   "metadata": {},
   "outputs": [
    {
     "name": "stdout",
     "output_type": "stream",
     "text": [
      "[(2, 1), (1, 2), (2, 3), (4, 4), (2, 5)]\n"
     ]
    }
   ],
   "source": [
    "#6. Write a Python program to get a list, sorted in increasing order by the last element in each tuple from a \n",
    "# given list of non-empty tuples. Go to the editor\n",
    "# Sample List : [(2, 5), (1, 2), (4, 4), (2, 3), (2, 1)]\n",
    "# Expected Result : [(2, 1), (1, 2), (2, 3), (4, 4), (2, 5)]\n",
    "\n",
    "def last(items):\n",
    "    return items[-1]\n",
    "       \n",
    "def inc_order(items):\n",
    "    return sorted(items, key=last )\n",
    "    \n",
    "print(inc_order([(2, 5), (1, 2), (4, 4), (2, 3), (2, 1)]))"
   ]
  },
  {
   "cell_type": "code",
   "execution_count": 39,
   "metadata": {},
   "outputs": [
    {
     "name": "stdout",
     "output_type": "stream",
     "text": [
      "[1, 2, 3, 4, 5]\n"
     ]
    }
   ],
   "source": [
    "# 7. Write a Python program to remove duplicates from a list.\n",
    "\n",
    "def unique(items):\n",
    "    output = []\n",
    "    for item in items:\n",
    "        if item not in output:\n",
    "            output.append(item)\n",
    "    return output\n",
    "print(unique([1,2,3,4,2,3,5]))"
   ]
  },
  {
   "cell_type": "code",
   "execution_count": 41,
   "metadata": {},
   "outputs": [
    {
     "name": "stdout",
     "output_type": "stream",
     "text": [
      "Empty list\n"
     ]
    }
   ],
   "source": [
    "# 8. Write a Python program to check a list is empty or not. \n",
    "\n",
    "l = []\n",
    "\n",
    "if not l:\n",
    "    print(\"Empty list\")\n",
    "else:\n",
    "    print(\"Non Empty list\")\n",
    "    "
   ]
  },
  {
   "cell_type": "code",
   "execution_count": 1,
   "metadata": {},
   "outputs": [
    {
     "name": "stdout",
     "output_type": "stream",
     "text": [
      "['m', 'a', 'r', 'y']\n",
      "['a', 'r', 'm', 'y']\n",
      "these are anagrams\n"
     ]
    }
   ],
   "source": [
    "#9. Anagrams\n",
    "\n",
    "word1 = \"mary\"\n",
    "word2 = \"army\"\n",
    "\n",
    "split1 = []\n",
    "for x in word1:\n",
    "    split1.append(x)\n",
    "\n",
    "split2 = []\n",
    "for x in word2:\n",
    "    split2.append(x)\n",
    "\n",
    "print(split1)\n",
    "print(split2)\n",
    "\n",
    "\n",
    "if sorted(split1) == sorted(split2):\n",
    "    print(\"these are anagrams\")\n",
    "else:\n",
    "    print(\"these are not anagrams\")\n",
    "\n",
    "\n",
    "\n"
   ]
  },
  {
   "cell_type": "code",
   "execution_count": 2,
   "metadata": {},
   "outputs": [
    {
     "name": "stdout",
     "output_type": "stream",
     "text": [
      "[(2, 5), (3, 4), (4, 3), (5, 2)]\n"
     ]
    }
   ],
   "source": [
    "#10. sum of any two elements is 7\n",
    "\n",
    "nums = [1,2,3,4,5]\n",
    "result = 7\n",
    "sum_seven = []\n",
    "\n",
    "for value in nums:\n",
    "    sub = result - value\n",
    "    if sub in nums:\n",
    "        sum_seven.append((value,sub))\n",
    "print(sum_seven)"
   ]
  },
  {
   "cell_type": "code",
   "execution_count": null,
   "metadata": {},
   "outputs": [],
   "source": []
  }
 ],
 "metadata": {
  "kernelspec": {
   "display_name": "Python 3",
   "language": "python",
   "name": "python3"
  },
  "language_info": {
   "codemirror_mode": {
    "name": "ipython",
    "version": 3
   },
   "file_extension": ".py",
   "mimetype": "text/x-python",
   "name": "python",
   "nbconvert_exporter": "python",
   "pygments_lexer": "ipython3",
   "version": "3.7.4"
  }
 },
 "nbformat": 4,
 "nbformat_minor": 2
}
