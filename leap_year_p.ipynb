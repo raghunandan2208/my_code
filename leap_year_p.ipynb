{
 "cells": [
  {
   "cell_type": "code",
   "execution_count": 2,
   "metadata": {},
   "outputs": [
    {
     "name": "stdout",
     "output_type": "stream",
     "text": [
      "Enter some year to check if given year is leap year or not: 2017\n",
      "The year 2017 is not a Leap year.\n"
     ]
    }
   ],
   "source": [
    "# 4.Write a program to check if given year is leap year or not.\n",
    "#Leap year : A year is said to be leap year, if the year is exactly divisible by 4 but and not divisible by 100\n",
    "\n",
    "year = int(input(\"Enter some year to check if given year is leap year or not: \"))\n",
    "\n",
    "if (year % 4 == 0) and (year % 100 != 0):\n",
    "    print(\"The year\", year, \"is Leap year.\") \n",
    "else:\n",
    "    print(\"The year\", year, \"is not a Leap year.\")"
   ]
  },
  {
   "cell_type": "code",
   "execution_count": null,
   "metadata": {},
   "outputs": [],
   "source": []
  }
 ],
 "metadata": {
  "kernelspec": {
   "display_name": "Python 3",
   "language": "python",
   "name": "python3"
  },
  "language_info": {
   "codemirror_mode": {
    "name": "ipython",
    "version": 3
   },
   "file_extension": ".py",
   "mimetype": "text/x-python",
   "name": "python",
   "nbconvert_exporter": "python",
   "pygments_lexer": "ipython3",
   "version": "3.7.4"
  }
 },
 "nbformat": 4,
 "nbformat_minor": 2
}
