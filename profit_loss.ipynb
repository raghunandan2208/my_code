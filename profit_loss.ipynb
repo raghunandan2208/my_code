{
 "cells": [
  {
   "cell_type": "code",
   "execution_count": 2,
   "metadata": {},
   "outputs": [
    {
     "name": "stdout",
     "output_type": "stream",
     "text": [
      "Enter cost price of the product: 78\n",
      "Enter selling price of the product: 69.5\n",
      "Loss = Rs. 8.5\n"
     ]
    }
   ],
   "source": [
    "#2.Given a Cost price and Selling price of a product,write program to calculate profit or loss\n",
    "\n",
    "cost_price = float(input(\"Enter cost price of the product: \"))\n",
    "sell_price = float(input(\"Enter selling price of the product: \"))\n",
    "\n",
    "if cost_price < sell_price:\n",
    "    print(\"Profit = Rs.\", sell_price - cost_price)\n",
    "elif cost_price > sell_price:\n",
    "    print(\"Loss = Rs.\", cost_price - sell_price)\n",
    "else:\n",
    "    print(\"No Profit.. No Loss..\")"
   ]
  },
  {
   "cell_type": "code",
   "execution_count": null,
   "metadata": {},
   "outputs": [],
   "source": []
  }
 ],
 "metadata": {
  "kernelspec": {
   "display_name": "Python 3",
   "language": "python",
   "name": "python3"
  },
  "language_info": {
   "codemirror_mode": {
    "name": "ipython",
    "version": 3
   },
   "file_extension": ".py",
   "mimetype": "text/x-python",
   "name": "python",
   "nbconvert_exporter": "python",
   "pygments_lexer": "ipython3",
   "version": "3.7.4"
  }
 },
 "nbformat": 4,
 "nbformat_minor": 2
}
