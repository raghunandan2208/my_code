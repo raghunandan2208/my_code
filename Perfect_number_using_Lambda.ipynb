{
 "cells": [
  {
   "cell_type": "code",
   "execution_count": 6,
   "metadata": {},
   "outputs": [
    {
     "name": "stdout",
     "output_type": "stream",
     "text": [
      "[6, 28]\n"
     ]
    }
   ],
   "source": [
    "# PERFECT NUMBER\n",
    "\n",
    "def perfect(num1):\n",
    "    sum1 = 0\n",
    "    for value in range(1,num1//2 + 1):\n",
    "        if num1 % value == 0:\n",
    "            sum1 += value\n",
    "    if sum1 == num1:\n",
    "        return True\n",
    "    else:\n",
    "        return False\n",
    "        \n",
    "l = [6,45,28,12,3,89]\n",
    "f = filter(perfect,l)\n",
    "print(list(f))"
   ]
  },
  {
   "cell_type": "code",
   "execution_count": 11,
   "metadata": {},
   "outputs": [
    {
     "name": "stdout",
     "output_type": "stream",
     "text": [
      "[6, 28]\n"
     ]
    }
   ],
   "source": [
    "# PERFECT NUMBER USING LAMBDA FUNCTION\n",
    "\n",
    "s = lambda num1: num1 == sum(value for value in range(1, num1//2 +1) if num1 % value == 0)\n",
    "l = [6,45,28,12,3,89]\n",
    "print(list(filter(s,l)))\n"
   ]
  },
  {
   "cell_type": "code",
   "execution_count": null,
   "metadata": {},
   "outputs": [],
   "source": []
  },
  {
   "cell_type": "code",
   "execution_count": null,
   "metadata": {},
   "outputs": [],
   "source": []
  }
 ],
 "metadata": {
  "kernelspec": {
   "display_name": "Python 3",
   "language": "python",
   "name": "python3"
  },
  "language_info": {
   "codemirror_mode": {
    "name": "ipython",
    "version": 3
   },
   "file_extension": ".py",
   "mimetype": "text/x-python",
   "name": "python",
   "nbconvert_exporter": "python",
   "pygments_lexer": "ipython3",
   "version": "3.7.4"
  }
 },
 "nbformat": 4,
 "nbformat_minor": 2
}
