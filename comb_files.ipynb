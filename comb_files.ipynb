{
 "cells": [
  {
   "cell_type": "code",
   "execution_count": 7,
   "metadata": {},
   "outputs": [],
   "source": [
    "import re\n",
    "f1 = open(\"sample1.txt\",\"r\")\n",
    "f2 = open(\"sample2.txt\",\"r\")\n",
    "f3 = open(\"sample3.txt\",\"a+\")\n",
    "lines1 = f1.readline()\n",
    "lines2 = f2.readline()\n",
    "\n",
    "l1 = (re.findall('\\d+', lines1 ))\n",
    "l2 = (re.findall('\\d+', lines2 ))\n",
    "\n",
    "if l1 < l2:\n",
    "    f1.seek(0)\n",
    "    f3.write(f1.read())\n",
    "    f2.seek(0)\n",
    "    f3.write(f2.read())\n",
    "else:\n",
    "    f2.seek(0)\n",
    "    f3.write(f2.read())\n",
    "    f1.seek(0)\n",
    "    f3.write(f1.read())\n",
    "\n",
    "f1.close()\n",
    "f2.close()\n",
    "f3.close()"
   ]
  },
  {
   "cell_type": "code",
   "execution_count": null,
   "metadata": {},
   "outputs": [],
   "source": []
  }
 ],
 "metadata": {
  "kernelspec": {
   "display_name": "Python 3",
   "language": "python",
   "name": "python3"
  },
  "language_info": {
   "codemirror_mode": {
    "name": "ipython",
    "version": 3
   },
   "file_extension": ".py",
   "mimetype": "text/x-python",
   "name": "python",
   "nbconvert_exporter": "python",
   "pygments_lexer": "ipython3",
   "version": "3.7.4"
  }
 },
 "nbformat": 4,
 "nbformat_minor": 2
}
