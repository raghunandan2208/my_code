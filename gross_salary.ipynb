{
 "cells": [
  {
   "cell_type": "code",
   "execution_count": 5,
   "metadata": {},
   "outputs": [
    {
     "name": "stdout",
     "output_type": "stream",
     "text": [
      "Enter your basic salary: Rs.2000\n",
      "Your gross salary is : Rs. 4000.0\n"
     ]
    }
   ],
   "source": [
    "#3.Write a program to input basic salary of an employee and calculate gross salary according to given conditions.\n",
    "#Basic Salary <= 10000 : HRA = 20%, DA = 80% \n",
    "#Basic Salary is between 10001 to 20000 : HRA = 25%, DA = 90% \n",
    "#Basic Salary >= 20001 : HRA = 30%, DA = 95%\n",
    "\n",
    "salary = float(input(\"Enter your basic salary: Rs.\"))\n",
    "\n",
    "if salary <= 10000:\n",
    "    print(\"Your gross salary is : Rs.\", (salary + (salary * 0.2) + (salary * 0.8)))\n",
    "elif salary > 10000 and salary <= 20000:\n",
    "    print(\"Your gross salary is : Rs.\", (salary + (salary * 0.25) + (salary * 0.9)))\n",
    "elif salary >= 20001:\n",
    "    print(\"Your gross salary is : Rs.\", (salary + (salary * 0.3) + (salary * 0.95)))"
   ]
  },
  {
   "cell_type": "code",
   "execution_count": null,
   "metadata": {},
   "outputs": [],
   "source": []
  }
 ],
 "metadata": {
  "kernelspec": {
   "display_name": "Python 3",
   "language": "python",
   "name": "python3"
  },
  "language_info": {
   "codemirror_mode": {
    "name": "ipython",
    "version": 3
   },
   "file_extension": ".py",
   "mimetype": "text/x-python",
   "name": "python",
   "nbconvert_exporter": "python",
   "pygments_lexer": "ipython3",
   "version": "3.7.4"
  }
 },
 "nbformat": 4,
 "nbformat_minor": 2
}
